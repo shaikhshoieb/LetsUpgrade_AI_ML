{
 "cells": [
  {
   "cell_type": "markdown",
   "metadata": {},
   "source": [
    "# Hypothesis 1\n",
    "null hypothesis =Age and attrition have no correlation .\n",
    "\n",
    "alternate hypothesis= Age and attrition have a correlation between them \n",
    "\n",
    "# Hypothesis 2\n",
    "null hypothesis =Attrition and distance from home have no correlation .\n",
    "\n",
    "alternate hypothesis= Attrition and distance from home have a correlation between them .\n",
    "\n",
    "# Hypothesis 3\n",
    "null hypothesis =Attrition and monthly income have no correlation .\n",
    "\n",
    "alternate hypothesis= Attrition and monthly income have a correlation between them .\n",
    "\n",
    "# Hypothesis 4\n",
    "\n",
    "null hypothesis =Attrition and salary hike percentage have no correlation .\n",
    "\n",
    "alternate hypothesis= Attrition and salary hike percentage have a correlation between them .\n",
    "\n",
    "# Hypothesis 5 \n",
    "\n",
    "null hypothesis =Attrition and TrainingTimesLastYear have no correlation .\n",
    "\n",
    "alternate hypothesis= Attrition and TrainingTimesLastYear have a correlation between them .\n",
    "\n",
    "\n",
    "# Hypothesis 6 \n",
    "\n",
    "null hypothesis =Attrition and YearsAtCompany have no correlation .\n",
    "\n",
    "alternate hypothesis= Attrition and YearsAtCompany have a correlation between them .\n",
    "\n",
    "# Hypothesis 7 \n",
    "\n",
    "null hypothesis =Attrition and YearsSinceLastPromotion have no correlation .\n",
    "\n",
    "alternate hypothesis= Attrition and YearsSinceLastPromotion have a correlation between them .\n",
    "\n",
    "# Hypothesis 8 \n",
    "\n",
    "null hypothesis =Attrition and YearsWithCurrManager have no correlation .\n",
    "\n",
    "alternate hypothesis= Attrition and YearsWithCurrManager have a correlation between them ."
   ]
  },
  {
   "cell_type": "markdown",
   "metadata": {},
   "source": []
  }
 ],
 "metadata": {
  "kernelspec": {
   "display_name": "Python 3",
   "language": "python",
   "name": "python3"
  },
  "language_info": {
   "codemirror_mode": {
    "name": "ipython",
    "version": 3
   },
   "file_extension": ".py",
   "mimetype": "text/x-python",
   "name": "python",
   "nbconvert_exporter": "python",
   "pygments_lexer": "ipython3",
   "version": "3.8.3"
  }
 },
 "nbformat": 4,
 "nbformat_minor": 4
}
